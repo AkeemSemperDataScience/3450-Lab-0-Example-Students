{
 "cells": [
  {
   "cell_type": "code",
   "execution_count": 4,
   "id": "17830971",
   "metadata": {},
   "outputs": [],
   "source": [
    "import quiz_0_answer_sheet"
   ]
  },
  {
   "cell_type": "markdown",
   "id": "1a45f364",
   "metadata": {},
   "source": [
    "## Sample 1"
   ]
  },
  {
   "cell_type": "code",
   "execution_count": 5,
   "id": "0d56a0b3",
   "metadata": {},
   "outputs": [
    {
     "name": "stdout",
     "output_type": "stream",
     "text": [
      "Sample answer 1 is correct!\n",
      "Sample answer 2 is incorrect. The correct answer is: -9\n"
     ]
    }
   ],
   "source": [
    "real_answer_1 = 7\n",
    "num1 = 2\n",
    "num2 = 5\n",
    "real_answer_2 = -9 #Wrong answer for testing purposes\n",
    "num3 = 3\n",
    "num4 = -8\n",
    "\n",
    "sample_answer_1 = quiz_0_answer_sheet.numberAdder(num1, num2)\n",
    "sample_answer_2 = quiz_0_answer_sheet.numberAdder(num3, num4)\n",
    "\n",
    "if sample_answer_1 == real_answer_1:\n",
    "    print(\"Sample answer 1 is correct!\")\n",
    "else:\n",
    "    print(\"Sample answer 1 is incorrect. The correct answer is:\", real_answer_1)\n",
    "if sample_answer_2 == real_answer_2:\n",
    "    print(\"Sample answer 2 is correct!\")\n",
    "else:\n",
    "    print(\"Sample answer 2 is incorrect. The correct answer is:\", real_answer_2)"
   ]
  },
  {
   "cell_type": "markdown",
   "id": "705e40c8",
   "metadata": {},
   "source": [
    "## Sample 2"
   ]
  },
  {
   "cell_type": "code",
   "execution_count": null,
   "id": "42bbae9a",
   "metadata": {},
   "outputs": [
    {
     "ename": "AttributeError",
     "evalue": "module 'quiz_0_answer_sheet' has no attribute 'wordCounter'",
     "output_type": "error",
     "traceback": [
      "\u001b[0;31m---------------------------------------------------------------------------\u001b[0m",
      "\u001b[0;31mAttributeError\u001b[0m                            Traceback (most recent call last)",
      "Cell \u001b[0;32mIn[6], line 7\u001b[0m\n\u001b[1;32m      4\u001b[0m real_answer_4 \u001b[38;5;241m=\u001b[39m \u001b[38;5;241m3\u001b[39m\n\u001b[1;32m      5\u001b[0m word2 \u001b[38;5;241m=\u001b[39m \u001b[38;5;124m\"\u001b[39m\u001b[38;5;124mWorldwide\u001b[39m\u001b[38;5;124m\"\u001b[39m\n\u001b[0;32m----> 7\u001b[0m sample_answer_3 \u001b[38;5;241m=\u001b[39m \u001b[43mquiz_0_answer_sheet\u001b[49m\u001b[38;5;241;43m.\u001b[39;49m\u001b[43mwordCounter\u001b[49m(word1)\n\u001b[1;32m      8\u001b[0m sample_answer_4 \u001b[38;5;241m=\u001b[39m quiz_0_answer_sheet\u001b[38;5;241m.\u001b[39mwordCounter(word2)\n\u001b[1;32m      9\u001b[0m \u001b[38;5;28;01mif\u001b[39;00m sample_answer_3 \u001b[38;5;241m==\u001b[39m real_answer_3:\n",
      "\u001b[0;31mAttributeError\u001b[0m: module 'quiz_0_answer_sheet' has no attribute 'wordCounter'"
     ]
    }
   ],
   "source": [
    "real_answer_3 = 2\n",
    "word1 = \"Hello\"\n",
    "\n",
    "real_answer_4 = 3\n",
    "word2 = \"Worldwide\"\n",
    "\n",
    "sample_answer_3 = quiz_0_answer_sheet.vowelsInString(word1)\n",
    "sample_answer_4 = quiz_0_answer_sheet.vowelsInString(word2)\n",
    "if sample_answer_3 == real_answer_3:\n",
    "    print(\"Sample answer 3 is correct!\")\n",
    "else:\n",
    "    print(\"Sample answer 3 is incorrect. The correct answer is:\", real_answer_3)\n",
    "if sample_answer_4 == real_answer_4:\n",
    "    print(\"Sample answer 4 is correct!\")\n",
    "else:\n",
    "    print(\"Sample answer 4 is incorrect. The correct answer is:\", real_answer_4)"
   ]
  }
 ],
 "metadata": {
  "kernelspec": {
   "display_name": "ml_2",
   "language": "python",
   "name": "python3"
  },
  "language_info": {
   "codemirror_mode": {
    "name": "ipython",
    "version": 3
   },
   "file_extension": ".py",
   "mimetype": "text/x-python",
   "name": "python",
   "nbconvert_exporter": "python",
   "pygments_lexer": "ipython3",
   "version": "3.10.9"
  }
 },
 "nbformat": 4,
 "nbformat_minor": 5
}
